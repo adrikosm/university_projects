{
  "nbformat": 4,
  "nbformat_minor": 0,
  "metadata": {
    "colab": {
      "name": "Εφαρμογες_Τεχνητης_Νοημοσυνης_Σεπτεμβρης_1.ipynb",
      "provenance": []
    },
    "kernelspec": {
      "name": "python3",
      "display_name": "Python 3"
    },
    "language_info": {
      "name": "python"
    },
    "accelerator": "GPU"
  },
  "cells": [
    {
      "cell_type": "markdown",
      "metadata": {
        "id": "0czfk9IjJivk"
      },
      "source": [
        "Απαλλακτικη Εργασια Σεπτεμβρη\n",
        "Μαυροπουλος Ανδρεας 217129"
      ]
    },
    {
      "cell_type": "markdown",
      "metadata": {
        "id": "ZyWFMh7qghec"
      },
      "source": [
        "# Census Data Income dataset\n",
        "\n",
        "Attribute Information:\n",
        "\n",
        "Listing of attributes:\n",
        "\n",
        ">50K, <=50K.\n",
        "\n",
        "* age: continuous.\n",
        "* workclass: Private, Self-emp-not-inc, Self-emp-inc, Federal-gov, Local-gov, State-gov, Without-pay, Never-worked.\n",
        "* fnlwgt: continuous.\n",
        "* education: Bachelors, Some-college, 11th, HS-grad, Prof-school, Assoc-acdm, Assoc-voc, 9th, 7th-8th, 12th, Masters, 1st-4th, 10th, Doctorate, 5th-6th, Preschool.\n",
        "* education-num: continuous.\n",
        "* marital-status: Married-civ-spouse, Divorced, Never-married, Separated, Widowed, Married-spouse-absent, Married-AF-spouse.\n",
        "* occupation: Tech-support, Craft-repair, Other-service, Sales, Exec-managerial, Prof-specialty, Handlers-cleaners, Machine-op-inspct, Adm-clerical, Farming-fishing, Transport-moving, Priv-house-serv, Protective-serv, Armed-Forces.\n",
        "relationship: Wife, Own-child, Husband, Not-in-family, Other-relative, Unmarried.\n",
        "* race: White, Asian-Pac-Islander, Amer-Indian-Eskimo, Other, Black.\n",
        "* sex: Female, Male.\n",
        "* capital-gain: continuous.\n",
        "* capital-loss: continuous.\n",
        "* hours-per-week: continuous.\n",
        "* native-country: United-States, Cambodia, England, Puerto-Rico, Canada, Germany, Outlying-US(Guam-USVI-etc), India, Japan, Greece, South, China, Cuba, Iran, Honduras, Philippines, Italy, Poland, Jamaica, Vietnam, Mexico, Portugal, Ireland, France, Dominican-Republic, Laos, Ecuador, Taiwan, Haiti, Columbia, Hungary, Guatemala, Nicaragua, Scotland, Thailand, Yugoslavia, El-Salvador, Trinadad&Tobago, Peru, Hong, Holand-Netherlands.\n"
      ]
    },
    {
      "cell_type": "markdown",
      "metadata": {
        "id": "GzehpeBlg61Q"
      },
      "source": [
        "## Imports"
      ]
    },
    {
      "cell_type": "code",
      "metadata": {
        "id": "Hq15mmN-d1qv"
      },
      "source": [
        "# Ploting\n",
        "import matplotlib.pyplot as plt\n",
        "import seaborn as sns\n",
        "# Pandas\n",
        "import pandas as pd\n",
        "# Numpy\n",
        "import numpy as np\n",
        "\n",
        "# Sk learn\n",
        "from sklearn.compose import make_column_transformer\n",
        "from sklearn.preprocessing import MinMaxScaler,OneHotEncoder\n",
        "from sklearn.model_selection import train_test_split\n",
        "from sklearn.preprocessing import StandardScaler, LabelEncoder\n",
        "from sklearn.metrics import classification_report\n",
        "\n",
        "# Tensorflow\n",
        "import tensorflow as tf\n",
        "from keras import backend as K"
      ],
      "execution_count": 1,
      "outputs": []
    },
    {
      "cell_type": "code",
      "metadata": {
        "id": "zqwpUKxNhuWr"
      },
      "source": [
        "# Make by default all fig sized 10 ,6\n",
        "plt.rcParams[\"figure.figsize\"] = (10,6)"
      ],
      "execution_count": 2,
      "outputs": []
    },
    {
      "cell_type": "code",
      "metadata": {
        "id": "ZSTOZ90YYIbS"
      },
      "source": [
        "import warnings\n",
        "warnings.filterwarnings('ignore')"
      ],
      "execution_count": 3,
      "outputs": []
    },
    {
      "cell_type": "markdown",
      "metadata": {
        "id": "W5cGLHqGh8pv"
      },
      "source": [
        "## Load the Dataset"
      ]
    },
    {
      "cell_type": "code",
      "metadata": {
        "colab": {
          "base_uri": "https://localhost:8080/"
        },
        "id": "42PTGN7kh96Q",
        "outputId": "71c8421d-ed5c-484c-b791-e332d7426136"
      },
      "source": [
        "# Download data using wget\n",
        "!wget https://archive.ics.uci.edu/ml/machine-learning-databases/adult/adult.data"
      ],
      "execution_count": 4,
      "outputs": [
        {
          "output_type": "stream",
          "name": "stdout",
          "text": [
            "--2021-09-20 19:05:44--  https://archive.ics.uci.edu/ml/machine-learning-databases/adult/adult.data\n",
            "Resolving archive.ics.uci.edu (archive.ics.uci.edu)... 128.195.10.252\n",
            "Connecting to archive.ics.uci.edu (archive.ics.uci.edu)|128.195.10.252|:443... connected.\n",
            "HTTP request sent, awaiting response... 200 OK\n",
            "Length: 3974305 (3.8M) [application/x-httpd-php]\n",
            "Saving to: ‘adult.data’\n",
            "\n",
            "adult.data          100%[===================>]   3.79M  8.84MB/s    in 0.4s    \n",
            "\n",
            "2021-09-20 19:05:45 (8.84 MB/s) - ‘adult.data’ saved [3974305/3974305]\n",
            "\n"
          ]
        }
      ]
    },
    {
      "cell_type": "code",
      "metadata": {
        "colab": {
          "base_uri": "https://localhost:8080/"
        },
        "id": "8PgUKDsozG8I",
        "outputId": "84ed8ed8-9614-42ba-e07e-9ee15a36cbe9"
      },
      "source": [
        "# Download test using wget\n",
        "!wget https://archive.ics.uci.edu/ml/machine-learning-databases/adult/adult.test"
      ],
      "execution_count": 5,
      "outputs": [
        {
          "output_type": "stream",
          "name": "stdout",
          "text": [
            "--2021-09-20 19:05:45--  https://archive.ics.uci.edu/ml/machine-learning-databases/adult/adult.test\n",
            "Resolving archive.ics.uci.edu (archive.ics.uci.edu)... 128.195.10.252\n",
            "Connecting to archive.ics.uci.edu (archive.ics.uci.edu)|128.195.10.252|:443... connected.\n",
            "HTTP request sent, awaiting response... 200 OK\n",
            "Length: 2003153 (1.9M) [application/x-httpd-php]\n",
            "Saving to: ‘adult.test’\n",
            "\n",
            "adult.test          100%[===================>]   1.91M  5.38MB/s    in 0.4s    \n",
            "\n",
            "2021-09-20 19:05:45 (5.38 MB/s) - ‘adult.test’ saved [2003153/2003153]\n",
            "\n"
          ]
        }
      ]
    },
    {
      "cell_type": "markdown",
      "metadata": {
        "id": "kjciErPV5cRd"
      },
      "source": [
        "Importand data  for the feature engineering"
      ]
    },
    {
      "cell_type": "code",
      "metadata": {
        "id": "wOBHCu566Gw3"
      },
      "source": [
        "col_names = ['Age','workclass','fnlwgt','education','education-num','marital-status',\n",
        "             'occupation','relationship','race','sex','capital-gain','capital-loss',\n",
        "             'hours-per-week','native-country','income']\n",
        "\n",
        "\n",
        "education_replacement = {\n",
        "      \"Preschool\": \"primary_education\",\n",
        "      'primary' : \"primary_education\",\n",
        "      \"1st-4th\": \"primary_education\",\n",
        "      \"5th-6th\": \"primary_education\",\n",
        "      \"7th-8th\": \"primary_education\",\n",
        "\n",
        "      \"9th\": \"secondary_education\",\n",
        "      \"10th\": \"secondary_education\",\n",
        "      \"11th\": \"secondary_education\",\n",
        "      \"12th\": \"secondary_education\",\n",
        "      \"HS-grad\": \"secondary_education\",\n",
        "      \n",
        "      \"Assoc-voc\": \"higher_education\",\n",
        "      \"Assoc-acdm\": \"higher_education\",\n",
        "      \"Prof-school\": \"higher_education\",\n",
        "      \"Some-college\": \"higher_education\",\n",
        "  } \n",
        "marital_replacement = {\n",
        "      \"Married-civ-spouse\": \"Married\",\n",
        "      \"Married-AF-spouse\": \"Married\",\n",
        "      \n",
        "      \"Never-Married\" : \"not-married\",\n",
        "\n",
        "      \"Divorced\" : 'other',\n",
        "      \"Widowed\": 'other',\n",
        "      \"Married-spouse-absent\" : \"other\"\n",
        "  }         "
      ],
      "execution_count": 6,
      "outputs": []
    },
    {
      "cell_type": "markdown",
      "metadata": {
        "id": "JrPZy3wEBxjM"
      },
      "source": [
        "# 1.1 Φόρτωση δεδομένων\n"
      ]
    },
    {
      "cell_type": "code",
      "metadata": {
        "id": "CYvLmxon4oLA"
      },
      "source": [
        "def load_data(train_path,test_path):\n",
        "  '''\n",
        "  Takes a train and test path \n",
        "  removes ? data from worckclass occupation and native country columns\n",
        "  reduces education and marital layers\n",
        "  turns all data into numeric using LabelEncoder\n",
        "  Normalizes all data using StandardScaler\n",
        "  returns a train test split (X_train,y_train,X_test,y_test)\n",
        "  '''\n",
        "  # Put train data into a dataframe\n",
        "  df_data = pd.read_csv(train_path,header = None)\n",
        "  df_data.columns = col_names\n",
        "  # Put test data into a dataframe\n",
        "  df_test = pd.read_csv(test_path,header = 1) # Dataset has a first line which needs to be skipped\n",
        "  df_test.columns = col_names\n",
        "  # 1. Remove fnlwgt and education-num\n",
        "  df_data.drop('fnlwgt',inplace=True,axis=1)\n",
        "  df_data.drop('education-num',inplace=True,axis=1)\n",
        "  \n",
        "  df_test.drop('fnlwgt',inplace=True,axis=1)\n",
        "  df_test.drop('education-num',inplace=True,axis=1)\n",
        "\n",
        "  # 2. Turn all variables into numeric ones\n",
        "  # First lets fill all ? values \n",
        "  # replace ? with the most common occurance in column\n",
        "  df_data['workclass'] = df_data['workclass'].str.replace(\"?\",\"Private\")\n",
        "  df_data['occupation'] = df_data['occupation'].str.replace('?',\"Prof-specialty\")\n",
        "  df_data['native-country'] = df_data['native-country'].str.replace('?','United-States')\n",
        "  # Now for the test dataset\n",
        "  df_test['workclass'] = df_test['workclass'].str.replace(\"?\",\"Private\")\n",
        "  df_test['occupation'] = df_test['occupation'].str.replace('?',\"Prof-specialty\")\n",
        "  df_test['native-country'] = df_test['native-country'].str.replace('?','United-States')\n",
        "\n",
        "  # Time to do some feature engineering in order to lower some features\n",
        "  # Education REPLACEMENT\n",
        "  df_data['education'] =  df_data['education'].replace(education_replacement, regex=True)\n",
        "  df_test['education'] =  df_test['education'].replace(education_replacement, regex=True)\n",
        "  # Relationship replacements\n",
        "  df_data['marital-status'] =  df_data['marital-status'].replace(marital_replacement, regex=True)\n",
        "  df_test['marital-status'] =  df_test['marital-status'].replace(marital_replacement, regex=True)\n",
        "\n",
        "  # Turn all data into numeric type using scikit learn label encoder\n",
        "  df_data= df_data.apply(LabelEncoder().fit_transform)\n",
        "  df_test= df_test.apply(LabelEncoder().fit_transform)\n",
        "\n",
        "  # Make a train test split \n",
        "  X_train = df_data.drop('income',axis=1)\n",
        "  y_train = df_data['income']\n",
        "  X_test = df_test.drop('income',axis=1)\n",
        "  y_test =  df_test['income']\n",
        "\n",
        "\n",
        "  # Normalize all data using MinmaxScaler\n",
        "  # First for the training data\n",
        "  scaler = StandardScaler()\n",
        "  X_train = scaler.fit_transform(X_train)\n",
        "  X_test = scaler.transform(X_test)\n",
        "  # The testing data does not need to standarized\n",
        "\n",
        "\n",
        "  return X_train,y_train,X_test,y_test"
      ],
      "execution_count": 7,
      "outputs": []
    },
    {
      "cell_type": "markdown",
      "metadata": {
        "id": "0hkx9h5y8KyW"
      },
      "source": [
        "#1.3 Εκτύπωση μετρικών\n",
        "Function that prints out model metrics specificaly:\n",
        "- accuracy\n",
        "- precision\n",
        "- recall \n",
        "\n",
        "  for the positive class (>= 50K) and for the negative (<50)\n",
        "- precision\n",
        "\n",
        "- recall "
      ]
    },
    {
      "cell_type": "code",
      "metadata": {
        "id": "MoCYIkzSaTiJ"
      },
      "source": [
        "\"\"\"\n",
        "Helper functions to better determine model recall precision and f1 score\n",
        "\"\"\"\n",
        "\n",
        "\n",
        "def recall_m(y_true, y_pred):\n",
        "    true_positives = K.sum(K.round(K.clip(y_true * y_pred, 0, 1)))\n",
        "    possible_positives = K.sum(K.round(K.clip(y_true, 0, 1)))\n",
        "    recall = true_positives / (possible_positives + K.epsilon())\n",
        "    return recall\n",
        "\n",
        "def precision_m(y_true, y_pred):\n",
        "    true_positives = K.sum(K.round(K.clip(y_true * y_pred, 0, 1)))\n",
        "    predicted_positives = K.sum(K.round(K.clip(y_pred, 0, 1)))\n",
        "    precision = true_positives / (predicted_positives + K.epsilon())\n",
        "    return precision\n",
        "\n",
        "def f1_m(y_true, y_pred):\n",
        "    precision = precision_m(y_true, y_pred)\n",
        "    recall = recall_m(y_true, y_pred)\n",
        "    return 2*((precision*recall)/(precision+recall+K.epsilon()))"
      ],
      "execution_count": 8,
      "outputs": []
    },
    {
      "cell_type": "code",
      "metadata": {
        "id": "gXehBGwhALzk"
      },
      "source": [
        "def print_metrics(model,X_train,y_train,X_test,y_test):\n",
        "  \"\"\"\n",
        "  Gives a classification report on the model \n",
        "  For both training and testing data\n",
        "  \"\"\"\n",
        "  # Firstly using classification report from scikit learn\n",
        "  y_pred = model.predict(X_test, verbose=0)\n",
        "  y_pred_bool = np.argmax(y_pred, axis=1)\n",
        "  print(\"------------ Test dataset ------------\")\n",
        "  print(classification_report(y_test, y_pred_bool))\n",
        "  print(\"------------ Train dataset ------------\")\n",
        "  y_pred = model.predict(X_train, verbose=0)\n",
        "  y_pred_bool = np.argmax(y_pred, axis=1)\n",
        "  print(classification_report(y_train, y_pred_bool))\n",
        "\n",
        "  # Secondly using the keras backend method\n",
        "  loss_test, accuracy_test, f1_score_test, precision_test, recall_test = model.evaluate(X_test, y_test, verbose=0)\n",
        "  loss_train, accuracy_train, f1_score_train, precision_train, recall_train = model.evaluate(X_train, y_train, verbose=0)\n",
        "  print(f\"Testing accuracy: {accuracy_test} Training accuracy:{accuracy_train}\")\n",
        "  print(f\"Testing f1_score: {f1_score_test} Training f1_score: {f1_score_train}\")\n",
        "  print(f\"Testing precision: {precision_test} Training precision: {precision_train}\")\n",
        "  print(f\"Testing recall: {recall_test} Training recall: {recall_train}\")\n",
        "  print(f\"Testing loss: {loss_test} Training loss: {loss_train}\")"
      ],
      "execution_count": 9,
      "outputs": []
    },
    {
      "cell_type": "code",
      "metadata": {
        "id": "lTXoAzvveYqt"
      },
      "source": [
        "def plot_history(history,choice):\n",
        "  \"\"\"\n",
        "  Give choice between :\n",
        "  ['acc',f1_m,precision_m, recall_m]\n",
        "  \"\"\"\n",
        "  pd.DataFrame(history.history[choice]).plot(figsize=(10,6))\n",
        "  plt.ylabel(choice)\n",
        "  plt.xlabel(\"epochs\")\n",
        "  plt.show()"
      ],
      "execution_count": 10,
      "outputs": []
    },
    {
      "cell_type": "code",
      "metadata": {
        "id": "65ni9OiLiHsy"
      },
      "source": [
        " X_train,y_train,X_test,y_test= load_data(train_path = 'adult.data',\n",
        "                            test_path = 'adult.test')"
      ],
      "execution_count": 11,
      "outputs": []
    },
    {
      "cell_type": "markdown",
      "metadata": {
        "id": "PSfKAJoJGg0M"
      },
      "source": [
        "## 1.4 Time to build the first simple model"
      ]
    },
    {
      "cell_type": "code",
      "metadata": {
        "id": "ZBRZaD_KFVSZ"
      },
      "source": [
        "# Set random seed\n",
        "tf.random.set_seed(42)\n",
        "\n",
        "# 1. Create the model using the Sequential API\n",
        "model_1 = tf.keras.Sequential([\n",
        "  tf.keras.layers.Dense(13),                         \n",
        "  tf.keras.layers.Dense(1)\n",
        "])\n",
        "\n",
        "# 2. Compile the model\n",
        "model_1.compile(loss=tf.keras.losses.BinaryCrossentropy(), # binary since we are working with 2 clases (0 & 1)\n",
        "                optimizer=tf.keras.optimizers.SGD(learning_rate = 0.01),\n",
        "                metrics=['acc',f1_m,precision_m, recall_m])\n",
        "\n",
        "# 3. Fit the model\n",
        "history_1 = model_1.fit(X_train, y_train, epochs=10,verbose = 0 )"
      ],
      "execution_count": 12,
      "outputs": []
    },
    {
      "cell_type": "code",
      "metadata": {
        "colab": {
          "base_uri": "https://localhost:8080/"
        },
        "id": "xUIYNzd3GsQK",
        "outputId": "4ca0ba13-bcc3-4bdf-ba67-08bd8ee45ee3"
      },
      "source": [
        "print_metrics(model_1,X_train,y_train,X_test,y_test)"
      ],
      "execution_count": 13,
      "outputs": [
        {
          "output_type": "stream",
          "name": "stdout",
          "text": [
            "------------ Test dataset ------------\n",
            "              precision    recall  f1-score   support\n",
            "\n",
            "           0       0.76      1.00      0.87     12434\n",
            "           1       0.00      0.00      0.00      3846\n",
            "\n",
            "    accuracy                           0.76     16280\n",
            "   macro avg       0.38      0.50      0.43     16280\n",
            "weighted avg       0.58      0.76      0.66     16280\n",
            "\n",
            "------------ Train dataset ------------\n",
            "              precision    recall  f1-score   support\n",
            "\n",
            "           0       0.76      1.00      0.86     24720\n",
            "           1       0.00      0.00      0.00      7841\n",
            "\n",
            "    accuracy                           0.76     32561\n",
            "   macro avg       0.38      0.50      0.43     32561\n",
            "weighted avg       0.58      0.76      0.66     32561\n",
            "\n",
            "Testing accuracy: 0.6632063984870911 Training accuracy:0.6687448024749756\n",
            "Testing f1_score: 0.4726524353027344 Training f1_score: 0.46294358372688293\n",
            "Testing precision: 0.38139453530311584 Training precision: 0.38408762216567993\n",
            "Testing recall: 0.6648513674736023 Training recall: 0.6300837397575378\n",
            "Testing loss: 5.140797138214111 Training loss: 5.0627923011779785\n"
          ]
        }
      ]
    },
    {
      "cell_type": "code",
      "metadata": {
        "colab": {
          "base_uri": "https://localhost:8080/",
          "height": 388
        },
        "id": "yQXDTcgoeaQJ",
        "outputId": "2c64866d-5651-4a8a-ac5f-95a478842249"
      },
      "source": [
        "plot_history(history_1,'acc')"
      ],
      "execution_count": 14,
      "outputs": [
        {
          "output_type": "display_data",
          "data": {
            "image/png": "[encoded data removed]",
            "text/plain": [
              "<Figure size 720x432 with 1 Axes>"
            ]
          },
          "metadata": {
            "needs_background": "light"
          }
        }
      ]
    },
    {
      "cell_type": "markdown",
      "metadata": {
        "id": "qax2PcE0Ux3u"
      },
      "source": [
        "## 1.5 Build a more complex model using 2 hidden layers"
      ]
    },
    {
      "cell_type": "code",
      "metadata": {
        "id": "OlfDuKRQHCo7"
      },
      "source": [
        "# Set random seed\n",
        "tf.random.set_seed(42)\n",
        "\n",
        "# 1. Create the model using the Sequential API\n",
        "model_2 = tf.keras.Sequential([\n",
        "  tf.keras.layers.Dense(200,activation='relu'),\n",
        "  tf.keras.layers.Dense(100,activation='relu'),\n",
        "  tf.keras.layers.Dense(1)\n",
        "])\n",
        "\n",
        "# 2. Compile the model\n",
        "model_2.compile(loss=tf.keras.losses.BinaryCrossentropy(), # binary since we are working with 2 clases (0 & 1)\n",
        "                optimizer=tf.keras.optimizers.SGD(learning_rate = 0.01),\n",
        "                metrics=['acc',f1_m,precision_m, recall_m])\n",
        "\n",
        "# 3. Fit the model\n",
        "history_2 = model_2.fit(X_train, y_train, epochs=30,verbose=0)"
      ],
      "execution_count": 15,
      "outputs": []
    },
    {
      "cell_type": "code",
      "metadata": {
        "colab": {
          "base_uri": "https://localhost:8080/"
        },
        "id": "f66MBbm5LMkq",
        "outputId": "9c7986d5-9d7e-46d6-e4a5-5cddd8229236"
      },
      "source": [
        "print_metrics(model_2,X_train,y_train,X_test,y_test)"
      ],
      "execution_count": 16,
      "outputs": [
        {
          "output_type": "stream",
          "name": "stdout",
          "text": [
            "------------ Test dataset ------------\n",
            "              precision    recall  f1-score   support\n",
            "\n",
            "           0       0.76      1.00      0.87     12434\n",
            "           1       0.00      0.00      0.00      3846\n",
            "\n",
            "    accuracy                           0.76     16280\n",
            "   macro avg       0.38      0.50      0.43     16280\n",
            "weighted avg       0.58      0.76      0.66     16280\n",
            "\n",
            "------------ Train dataset ------------\n",
            "              precision    recall  f1-score   support\n",
            "\n",
            "           0       0.76      1.00      0.86     24720\n",
            "           1       0.00      0.00      0.00      7841\n",
            "\n",
            "    accuracy                           0.76     32561\n",
            "   macro avg       0.38      0.50      0.43     32561\n",
            "weighted avg       0.58      0.76      0.66     32561\n",
            "\n",
            "Testing accuracy: 0.23624078929424286 Training accuracy:0.24080955982208252\n",
            "Testing f1_score: 0.3767758309841156 Training f1_score: 0.38178351521492004\n",
            "Testing precision: 0.23618614673614502 Training precision: 0.24080701172351837\n",
            "Testing recall: 1.0 Training recall: 1.0\n",
            "Testing loss: 11.646780967712402 Training loss: 11.577008247375488\n"
          ]
        }
      ]
    },
    {
      "cell_type": "code",
      "metadata": {
        "colab": {
          "base_uri": "https://localhost:8080/",
          "height": 388
        },
        "id": "fLkSLS_cgFtU",
        "outputId": "29739205-8787-4e8a-cc92-9920e2212b6e"
      },
      "source": [
        "plot_history(history_2,'acc')"
      ],
      "execution_count": 17,
      "outputs": [
        {
          "output_type": "display_data",
          "data": {
            "image/png": "[encoded data removed]",
            "text/plain": [
              "<Figure size 720x432 with 1 Axes>"
            ]
          },
          "metadata": {
            "needs_background": "light"
          }
        }
      ]
    },
    {
      "cell_type": "markdown",
      "metadata": {
        "id": "LokWnZywgLn7"
      },
      "source": [
        "### Ερώτημα 2: Σχολιάστε την επίδοση των δύο μοντέλων. Που πιστεύετε ότι οφείλεται η χειρότερη επίδοση στην θετική κλάση; Ποια θεωρείτε ότι είναι τα πλεονεκτήματα και τα μειονεκτήματα του κάθε μοντέλου;\n",
        "\n",
        "\n",
        "---\n",
        "Για αρχή μου φαινετε απολύτως λογικό τα μοντέλα να μην μπορούν να παράξουν τα ίδια αποτελέσματα στην θετική κλάση όσο σε σχέση με την αρνητική γιατί υπάρχει μια απίστευτη διάφορα στα δεδομένα. Η αρνητική κλάση έχει πολλαπλάσια παραδείγματα, και πέρα από το bayesian πρόβλημα που προκύπτει λόγω τον παραδειγματον στην θετική κλάση τα μοντέλα δεν μπορούν να φτάσουν την ακρίβεια τα οποία ζητάμε από αυτά. Άρα ητε μειώνουμε τα αρνητικά παραδείγματα ητε προσπαθούμε να βρούμε περισσότερα θετικά ώστε να φτάσουμε στα επιθυμητά αποτελέσματα.\n",
        "\n",
        "Όσον άφορα τα μοντέλα, μια σωστή πρακτική θα ήταν πριν το normalization των δεδομένων να αφαιρούσαμε μερικές outlier τιμές, οστε το σύνολο να έχει μια κανονική κατανομή. Για το μοντέλο 1 παρατηρούμε μια καλή αύξηση στην ακρίβεια με την πάροδο τον epochs αλλά βλέπουμε ότι μετά τα 10 αρχίζει και πέφτει πάλι. Αυτό μπορεί να οφείλετε σε 2 κυρίως προβλήματα. Πρώτον το μοτελο μας είναι πολύ απλό και δεν μπορεί να μάθει παραπάνω. Η όπως προαναφέρθηκε παραπάνω χρειαζόμαστε περισσότερα δεδομένα στην θετική κλάση.\n",
        "Τώρα για το μοντέλο 2 παρατηρούμε ότι παρόλο που είναι ένα μοντέλο με περισσότερο βάθος και περισσότερες συνιστώσες και επομένως συνδέσεις ότι έχει πρόβλημα στο να βρει κοινά σημεία στα δεδομένα μας. Αυτό οφείλετε κυρίως στο ότι τα δεδομένα μας είναι απλά και εμείς χρησημοποιουμε ένα πολύ περίπλοκο σύστημα νευρώνων. Προσπαθεί να βρει κοινά σημεία σε υπερβολικό βάθος καταλήγοντας να μας δίνει αρνητικά αποτελέσματα.\n",
        "Τέλος και τα 2 μοντέλα βλέπουμε ότι δυσκολεύονται στα training δεδομένα και καταλήγουν να μαντεύουν σχεδόν το τι κλάση θα βγει. Επομένως για να φτάσουμε σε καλύτερα αποτελέσματα θα πρέπει, να αυξήσουμε το training και των 2 μοντελον προσθετωντας ένα callback, να αυξήσουμε την πολυπλοκότητα του μοντέλου 1 και να μειώσουμε την πολυπλοκότητα του μοντέλου 2, να δοκιμάσουμε περισσότερα optimizers και learning_rates, και τέλος να βρούμε περισσότερα δεδομένα.\n"
      ]
    },
    {
      "cell_type": "markdown",
      "metadata": {
        "id": "7CXvrp1wlOur"
      },
      "source": [
        "# Ολοκληρωμενο  προτζεκτ:\n",
        "https://colab.research.google.com/drive/1LG9LQjG4XfOGWHnsejellSGrZfqx630-?usp=sharing"
      ]
    }
  ]
}